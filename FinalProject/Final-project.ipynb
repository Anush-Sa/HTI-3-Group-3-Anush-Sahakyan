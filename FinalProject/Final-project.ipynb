{
 "cells": [
  {
   "cell_type": "code",
   "execution_count": 1,
   "metadata": {},
   "outputs": [],
   "source": [
    "# BTC Price Analysis\n",
    "# \n",
    "# Steps:\n",
    "# 1. Get BTC prices from Yahoo Finance\n",
    "# 2. Get the frequency of searches by the key word 'Bitcoin' from Google Trends\n",
    "# 3. Run a linear regression to finde the correlation between the BTC price and the frequency of searches by that key word\n",
    "# 4. Summerize the results of regression"
   ]
  },
  {
   "cell_type": "code",
   "execution_count": 27,
   "metadata": {},
   "outputs": [],
   "source": [
    "import numpy as np\n",
    "import pandas as pd\n",
    "\n",
    "#python3 -m pip install pandas-datareader\n",
    "import pandas_datareader.data as pdr\n",
    "\n",
    "import matplotlib.pyplot as plt\n",
    "\n",
    "#pip3 install statsmodels\n",
    "import statsmodels.api as sm\n",
    "\n",
    "from datetime import datetime"
   ]
  },
  {
   "cell_type": "code",
   "execution_count": 3,
   "metadata": {},
   "outputs": [],
   "source": [
    "#Let's take end date to be today\n",
    "end = datetime.today()\n",
    "\n",
    "#Get cryptocurrency data from yahoo finance \n",
    "BTC = pdr.get_data_yahoo('BTC-USD',start = \"2015-1-1\",end = datetime.today(),interval='m')"
   ]
  },
  {
   "cell_type": "code",
   "execution_count": 4,
   "metadata": {},
   "outputs": [
    {
     "data": {
      "text/html": [
       "<div>\n",
       "<style scoped>\n",
       "    .dataframe tbody tr th:only-of-type {\n",
       "        vertical-align: middle;\n",
       "    }\n",
       "\n",
       "    .dataframe tbody tr th {\n",
       "        vertical-align: top;\n",
       "    }\n",
       "\n",
       "    .dataframe thead th {\n",
       "        text-align: right;\n",
       "    }\n",
       "</style>\n",
       "<table border=\"1\" class=\"dataframe\">\n",
       "  <thead>\n",
       "    <tr style=\"text-align: right;\">\n",
       "      <th></th>\n",
       "      <th>High</th>\n",
       "      <th>Low</th>\n",
       "      <th>Open</th>\n",
       "      <th>Close</th>\n",
       "      <th>Volume</th>\n",
       "      <th>Adj Close</th>\n",
       "    </tr>\n",
       "    <tr>\n",
       "      <th>Date</th>\n",
       "      <th></th>\n",
       "      <th></th>\n",
       "      <th></th>\n",
       "      <th></th>\n",
       "      <th></th>\n",
       "      <th></th>\n",
       "    </tr>\n",
       "  </thead>\n",
       "  <tbody>\n",
       "    <tr>\n",
       "      <th>2015-01-01</th>\n",
       "      <td>320.434998</td>\n",
       "      <td>171.509995</td>\n",
       "      <td>320.434998</td>\n",
       "      <td>217.464005</td>\n",
       "      <td>1098811912</td>\n",
       "      <td>217.464005</td>\n",
       "    </tr>\n",
       "    <tr>\n",
       "      <th>2015-02-01</th>\n",
       "      <td>265.610992</td>\n",
       "      <td>212.014999</td>\n",
       "      <td>216.867004</td>\n",
       "      <td>254.263000</td>\n",
       "      <td>711518700</td>\n",
       "      <td>254.263000</td>\n",
       "    </tr>\n",
       "    <tr>\n",
       "      <th>2015-03-01</th>\n",
       "      <td>300.044006</td>\n",
       "      <td>236.514999</td>\n",
       "      <td>254.283005</td>\n",
       "      <td>244.223999</td>\n",
       "      <td>959098300</td>\n",
       "      <td>244.223999</td>\n",
       "    </tr>\n",
       "    <tr>\n",
       "      <th>2015-03-31</th>\n",
       "      <td>261.798004</td>\n",
       "      <td>214.873993</td>\n",
       "      <td>244.223007</td>\n",
       "      <td>236.145004</td>\n",
       "      <td>672338700</td>\n",
       "      <td>236.145004</td>\n",
       "    </tr>\n",
       "    <tr>\n",
       "      <th>2015-04-30</th>\n",
       "      <td>247.804001</td>\n",
       "      <td>228.572998</td>\n",
       "      <td>235.938995</td>\n",
       "      <td>230.190002</td>\n",
       "      <td>568122600</td>\n",
       "      <td>230.190002</td>\n",
       "    </tr>\n",
       "    <tr>\n",
       "      <th>...</th>\n",
       "      <td>...</td>\n",
       "      <td>...</td>\n",
       "      <td>...</td>\n",
       "      <td>...</td>\n",
       "      <td>...</td>\n",
       "      <td>...</td>\n",
       "    </tr>\n",
       "    <tr>\n",
       "      <th>2020-12-01</th>\n",
       "      <td>29244.876953</td>\n",
       "      <td>17619.533203</td>\n",
       "      <td>19633.769531</td>\n",
       "      <td>29001.720703</td>\n",
       "      <td>1212259707946</td>\n",
       "      <td>29001.720703</td>\n",
       "    </tr>\n",
       "    <tr>\n",
       "      <th>2021-01-01</th>\n",
       "      <td>41946.738281</td>\n",
       "      <td>28722.755859</td>\n",
       "      <td>28994.009766</td>\n",
       "      <td>33114.359375</td>\n",
       "      <td>2155904438233</td>\n",
       "      <td>33114.359375</td>\n",
       "    </tr>\n",
       "    <tr>\n",
       "      <th>2021-02-01</th>\n",
       "      <td>58330.570312</td>\n",
       "      <td>32384.228516</td>\n",
       "      <td>33114.578125</td>\n",
       "      <td>45137.769531</td>\n",
       "      <td>2267152936675</td>\n",
       "      <td>45137.769531</td>\n",
       "    </tr>\n",
       "    <tr>\n",
       "      <th>2021-03-01</th>\n",
       "      <td>61683.863281</td>\n",
       "      <td>45115.093750</td>\n",
       "      <td>45159.503906</td>\n",
       "      <td>55137.312500</td>\n",
       "      <td>1408670611852</td>\n",
       "      <td>55137.312500</td>\n",
       "    </tr>\n",
       "    <tr>\n",
       "      <th>2021-03-28</th>\n",
       "      <td>56605.703125</td>\n",
       "      <td>55667.890625</td>\n",
       "      <td>56278.683594</td>\n",
       "      <td>55788.871094</td>\n",
       "      <td>48896380928</td>\n",
       "      <td>55788.871094</td>\n",
       "    </tr>\n",
       "  </tbody>\n",
       "</table>\n",
       "<p>76 rows × 6 columns</p>\n",
       "</div>"
      ],
      "text/plain": [
       "                    High           Low          Open         Close  \\\n",
       "Date                                                                 \n",
       "2015-01-01    320.434998    171.509995    320.434998    217.464005   \n",
       "2015-02-01    265.610992    212.014999    216.867004    254.263000   \n",
       "2015-03-01    300.044006    236.514999    254.283005    244.223999   \n",
       "2015-03-31    261.798004    214.873993    244.223007    236.145004   \n",
       "2015-04-30    247.804001    228.572998    235.938995    230.190002   \n",
       "...                  ...           ...           ...           ...   \n",
       "2020-12-01  29244.876953  17619.533203  19633.769531  29001.720703   \n",
       "2021-01-01  41946.738281  28722.755859  28994.009766  33114.359375   \n",
       "2021-02-01  58330.570312  32384.228516  33114.578125  45137.769531   \n",
       "2021-03-01  61683.863281  45115.093750  45159.503906  55137.312500   \n",
       "2021-03-28  56605.703125  55667.890625  56278.683594  55788.871094   \n",
       "\n",
       "                   Volume     Adj Close  \n",
       "Date                                     \n",
       "2015-01-01     1098811912    217.464005  \n",
       "2015-02-01      711518700    254.263000  \n",
       "2015-03-01      959098300    244.223999  \n",
       "2015-03-31      672338700    236.145004  \n",
       "2015-04-30      568122600    230.190002  \n",
       "...                   ...           ...  \n",
       "2020-12-01  1212259707946  29001.720703  \n",
       "2021-01-01  2155904438233  33114.359375  \n",
       "2021-02-01  2267152936675  45137.769531  \n",
       "2021-03-01  1408670611852  55137.312500  \n",
       "2021-03-28    48896380928  55788.871094  \n",
       "\n",
       "[76 rows x 6 columns]"
      ]
     },
     "execution_count": 4,
     "metadata": {},
     "output_type": "execute_result"
    }
   ],
   "source": [
    "#BTC price\n",
    "BTC"
   ]
  },
  {
   "cell_type": "code",
   "execution_count": 5,
   "metadata": {},
   "outputs": [],
   "source": [
    "#Set the figure sizes\n",
    "plt.rcParams['figure.figsize'] = (10,8)"
   ]
  },
  {
   "cell_type": "code",
   "execution_count": 6,
   "metadata": {},
   "outputs": [
    {
     "data": {
      "image/png": "[encoded data removed]",
      "text/plain": [
       "<Figure size 720x576 with 1 Axes>"
      ]
     },
     "metadata": {},
     "output_type": "display_data"
    }
   ],
   "source": [
    "#Bitcoin price movements from 2015-1-1 till today\n",
    "BTC['Adj Close'].plot(legend = True);"
   ]
  },
  {
   "cell_type": "code",
   "execution_count": 7,
   "metadata": {},
   "outputs": [],
   "source": [
    "#10,20,and 50 days moving average with Bitcoin prices\n",
    "\n",
    "ma_days = [10,20,50]\n",
    "\n",
    "for ma in ma_days:\n",
    "     column_name = \"MA %s days\"%(str(ma))        \n",
    "     BTC[column_name] = BTC['Adj Close'].rolling(window=ma,center=False).mean()  "
   ]
  },
  {
   "cell_type": "code",
   "execution_count": 8,
   "metadata": {},
   "outputs": [
    {
     "data": {
      "image/png": "[encoded data removed]",
      "text/plain": [
       "<Figure size 720x576 with 1 Axes>"
      ]
     },
     "metadata": {},
     "output_type": "display_data"
    }
   ],
   "source": [
    "BTC[['Adj Close','MA 10 days','MA 20 days','MA 50 days']].plot(legend=True);"
   ]
  },
  {
   "cell_type": "code",
   "execution_count": 9,
   "metadata": {},
   "outputs": [],
   "source": [
    "#Downloaded Bitcoin Google Seraches from Google Trends \n",
    "\n",
    "BTC_searches= pd.read_csv('./multiTimeline.csv',skiprows=1)"
   ]
  },
  {
   "cell_type": "code",
   "execution_count": 10,
   "metadata": {},
   "outputs": [],
   "source": [
    "BTC_searches.columns = ['Date','Bitcoin']"
   ]
  },
  {
   "cell_type": "code",
   "execution_count": 11,
   "metadata": {},
   "outputs": [
    {
     "data": {
      "text/html": [
       "<div>\n",
       "<style scoped>\n",
       "    .dataframe tbody tr th:only-of-type {\n",
       "        vertical-align: middle;\n",
       "    }\n",
       "\n",
       "    .dataframe tbody tr th {\n",
       "        vertical-align: top;\n",
       "    }\n",
       "\n",
       "    .dataframe thead th {\n",
       "        text-align: right;\n",
       "    }\n",
       "</style>\n",
       "<table border=\"1\" class=\"dataframe\">\n",
       "  <thead>\n",
       "    <tr style=\"text-align: right;\">\n",
       "      <th></th>\n",
       "      <th>Date</th>\n",
       "      <th>Bitcoin</th>\n",
       "    </tr>\n",
       "  </thead>\n",
       "  <tbody>\n",
       "    <tr>\n",
       "      <th>0</th>\n",
       "      <td>2015-01</td>\n",
       "      <td>3</td>\n",
       "    </tr>\n",
       "    <tr>\n",
       "      <th>1</th>\n",
       "      <td>2015-02</td>\n",
       "      <td>3</td>\n",
       "    </tr>\n",
       "    <tr>\n",
       "      <th>2</th>\n",
       "      <td>2015-03</td>\n",
       "      <td>2</td>\n",
       "    </tr>\n",
       "    <tr>\n",
       "      <th>3</th>\n",
       "      <td>2015-04</td>\n",
       "      <td>2</td>\n",
       "    </tr>\n",
       "    <tr>\n",
       "      <th>4</th>\n",
       "      <td>2015-05</td>\n",
       "      <td>2</td>\n",
       "    </tr>\n",
       "    <tr>\n",
       "      <th>...</th>\n",
       "      <td>...</td>\n",
       "      <td>...</td>\n",
       "    </tr>\n",
       "    <tr>\n",
       "      <th>70</th>\n",
       "      <td>2020-11</td>\n",
       "      <td>17</td>\n",
       "    </tr>\n",
       "    <tr>\n",
       "      <th>71</th>\n",
       "      <td>2020-12</td>\n",
       "      <td>25</td>\n",
       "    </tr>\n",
       "    <tr>\n",
       "      <th>72</th>\n",
       "      <td>2021-01</td>\n",
       "      <td>48</td>\n",
       "    </tr>\n",
       "    <tr>\n",
       "      <th>73</th>\n",
       "      <td>2021-02</td>\n",
       "      <td>50</td>\n",
       "    </tr>\n",
       "    <tr>\n",
       "      <th>74</th>\n",
       "      <td>2021-03</td>\n",
       "      <td>36</td>\n",
       "    </tr>\n",
       "  </tbody>\n",
       "</table>\n",
       "<p>75 rows × 2 columns</p>\n",
       "</div>"
      ],
      "text/plain": [
       "       Date  Bitcoin\n",
       "0   2015-01        3\n",
       "1   2015-02        3\n",
       "2   2015-03        2\n",
       "3   2015-04        2\n",
       "4   2015-05        2\n",
       "..      ...      ...\n",
       "70  2020-11       17\n",
       "71  2020-12       25\n",
       "72  2021-01       48\n",
       "73  2021-02       50\n",
       "74  2021-03       36\n",
       "\n",
       "[75 rows x 2 columns]"
      ]
     },
     "execution_count": 11,
     "metadata": {},
     "output_type": "execute_result"
    }
   ],
   "source": [
    "BTC_searches"
   ]
  },
  {
   "cell_type": "code",
   "execution_count": 12,
   "metadata": {},
   "outputs": [
    {
     "data": {
      "text/plain": [
       "Date\n",
       "2015-01-01      217.464005\n",
       "2015-02-01      254.263000\n",
       "2015-03-01      244.223999\n",
       "2015-03-31      236.145004\n",
       "2015-04-30      230.190002\n",
       "                  ...     \n",
       "2020-11-01    19625.835938\n",
       "2020-12-01    29001.720703\n",
       "2021-01-01    33114.359375\n",
       "2021-02-01    45137.769531\n",
       "2021-03-01    55137.312500\n",
       "Name: Adj Close, Length: 75, dtype: float64"
      ]
     },
     "execution_count": 12,
     "metadata": {},
     "output_type": "execute_result"
    }
   ],
   "source": [
    "#Combine Two Dataframes\n",
    "\n",
    "BTC_prices = BTC['Adj Close'].iloc[:-1]\n",
    "BTC_prices"
   ]
  },
  {
   "cell_type": "code",
   "execution_count": 13,
   "metadata": {},
   "outputs": [],
   "source": [
    "df = pd.concat([BTC_searches.reset_index(drop=True),BTC_prices.reset_index(drop=True)], axis=1)"
   ]
  },
  {
   "cell_type": "code",
   "execution_count": 14,
   "metadata": {},
   "outputs": [
    {
     "data": {
      "text/html": [
       "<div>\n",
       "<style scoped>\n",
       "    .dataframe tbody tr th:only-of-type {\n",
       "        vertical-align: middle;\n",
       "    }\n",
       "\n",
       "    .dataframe tbody tr th {\n",
       "        vertical-align: top;\n",
       "    }\n",
       "\n",
       "    .dataframe thead th {\n",
       "        text-align: right;\n",
       "    }\n",
       "</style>\n",
       "<table border=\"1\" class=\"dataframe\">\n",
       "  <thead>\n",
       "    <tr style=\"text-align: right;\">\n",
       "      <th></th>\n",
       "      <th>Date</th>\n",
       "      <th>Bitcoin</th>\n",
       "      <th>Adj Close</th>\n",
       "    </tr>\n",
       "  </thead>\n",
       "  <tbody>\n",
       "    <tr>\n",
       "      <th>0</th>\n",
       "      <td>2015-01</td>\n",
       "      <td>3</td>\n",
       "      <td>217.464005</td>\n",
       "    </tr>\n",
       "    <tr>\n",
       "      <th>1</th>\n",
       "      <td>2015-02</td>\n",
       "      <td>3</td>\n",
       "      <td>254.263000</td>\n",
       "    </tr>\n",
       "    <tr>\n",
       "      <th>2</th>\n",
       "      <td>2015-03</td>\n",
       "      <td>2</td>\n",
       "      <td>244.223999</td>\n",
       "    </tr>\n",
       "    <tr>\n",
       "      <th>3</th>\n",
       "      <td>2015-04</td>\n",
       "      <td>2</td>\n",
       "      <td>236.145004</td>\n",
       "    </tr>\n",
       "    <tr>\n",
       "      <th>4</th>\n",
       "      <td>2015-05</td>\n",
       "      <td>2</td>\n",
       "      <td>230.190002</td>\n",
       "    </tr>\n",
       "  </tbody>\n",
       "</table>\n",
       "</div>"
      ],
      "text/plain": [
       "      Date  Bitcoin   Adj Close\n",
       "0  2015-01        3  217.464005\n",
       "1  2015-02        3  254.263000\n",
       "2  2015-03        2  244.223999\n",
       "3  2015-04        2  236.145004\n",
       "4  2015-05        2  230.190002"
      ]
     },
     "execution_count": 14,
     "metadata": {},
     "output_type": "execute_result"
    }
   ],
   "source": [
    "df.head(5)"
   ]
  },
  {
   "cell_type": "code",
   "execution_count": 15,
   "metadata": {},
   "outputs": [
    {
     "data": {
      "text/html": [
       "<div>\n",
       "<style scoped>\n",
       "    .dataframe tbody tr th:only-of-type {\n",
       "        vertical-align: middle;\n",
       "    }\n",
       "\n",
       "    .dataframe tbody tr th {\n",
       "        vertical-align: top;\n",
       "    }\n",
       "\n",
       "    .dataframe thead th {\n",
       "        text-align: right;\n",
       "    }\n",
       "</style>\n",
       "<table border=\"1\" class=\"dataframe\">\n",
       "  <thead>\n",
       "    <tr style=\"text-align: right;\">\n",
       "      <th></th>\n",
       "      <th>Date</th>\n",
       "      <th>Bitcoin</th>\n",
       "      <th>Adj Close</th>\n",
       "    </tr>\n",
       "  </thead>\n",
       "  <tbody>\n",
       "    <tr>\n",
       "      <th>70</th>\n",
       "      <td>2020-11</td>\n",
       "      <td>17</td>\n",
       "      <td>19625.835938</td>\n",
       "    </tr>\n",
       "    <tr>\n",
       "      <th>71</th>\n",
       "      <td>2020-12</td>\n",
       "      <td>25</td>\n",
       "      <td>29001.720703</td>\n",
       "    </tr>\n",
       "    <tr>\n",
       "      <th>72</th>\n",
       "      <td>2021-01</td>\n",
       "      <td>48</td>\n",
       "      <td>33114.359375</td>\n",
       "    </tr>\n",
       "    <tr>\n",
       "      <th>73</th>\n",
       "      <td>2021-02</td>\n",
       "      <td>50</td>\n",
       "      <td>45137.769531</td>\n",
       "    </tr>\n",
       "    <tr>\n",
       "      <th>74</th>\n",
       "      <td>2021-03</td>\n",
       "      <td>36</td>\n",
       "      <td>55137.312500</td>\n",
       "    </tr>\n",
       "  </tbody>\n",
       "</table>\n",
       "</div>"
      ],
      "text/plain": [
       "       Date  Bitcoin     Adj Close\n",
       "70  2020-11       17  19625.835938\n",
       "71  2020-12       25  29001.720703\n",
       "72  2021-01       48  33114.359375\n",
       "73  2021-02       50  45137.769531\n",
       "74  2021-03       36  55137.312500"
      ]
     },
     "execution_count": 15,
     "metadata": {},
     "output_type": "execute_result"
    }
   ],
   "source": [
    "df.tail(5)"
   ]
  },
  {
   "cell_type": "code",
   "execution_count": 19,
   "metadata": {},
   "outputs": [
    {
     "name": "stderr",
     "output_type": "stream",
     "text": [
      "/Library/Frameworks/Python.framework/Versions/3.7/lib/python3.7/site-packages/matplotlib/cbook/__init__.py:1377: FutureWarning: Support for multi-dimensional indexing (e.g. `obj[:, None]`) is deprecated and will be removed in a future version.  Convert to a numpy array before indexing instead.\n",
      "  x[:, None]\n",
      "/Library/Frameworks/Python.framework/Versions/3.7/lib/python3.7/site-packages/matplotlib/axes/_base.py:237: FutureWarning: Support for multi-dimensional indexing (e.g. `obj[:, None]`) is deprecated and will be removed in a future version.  Convert to a numpy array before indexing instead.\n",
      "  x = x[:, np.newaxis]\n"
     ]
    },
    {
     "data": {
      "image/png": "[encoded data removed]",
      "text/plain": [
       "<Figure size 720x576 with 1 Axes>"
      ]
     },
     "metadata": {},
     "output_type": "display_data"
    }
   ],
   "source": [
    "# Linear Regression Statistics with 1 variable\n",
    "\n",
    "# Scaterplot where Price(Y) is a dependant on number of searches for 'Bitcoin' (X)\n",
    "X = df['Bitcoin']\n",
    "Y = df['Adj Close']\n",
    "plt.scatter(X,Y)\n",
    "plt.axis([0,120,0,70000])\n",
    "\n",
    "\n",
    "#Draw the trend line\n",
    "z = np.polyfit(X,Y,1)\n",
    "p = np.poly1d(z)\n",
    "plt.plot(X,p(X),\"r\")\n",
    "plt.show()"
   ]
  },
  {
   "cell_type": "code",
   "execution_count": 22,
   "metadata": {},
   "outputs": [],
   "source": [
    "#Regression\n",
    "X1 = sm.add_constant(X)\n",
    "reg = sm.OLS(Y, X1).fit()"
   ]
  },
  {
   "cell_type": "code",
   "execution_count": 23,
   "metadata": {
    "scrolled": true
   },
   "outputs": [
    {
     "data": {
      "text/html": [
       "<table class=\"simpletable\">\n",
       "<caption>OLS Regression Results</caption>\n",
       "<tr>\n",
       "  <th>Dep. Variable:</th>        <td>Adj Close</td>    <th>  R-squared:         </th> <td>   0.381</td>\n",
       "</tr>\n",
       "<tr>\n",
       "  <th>Model:</th>                   <td>OLS</td>       <th>  Adj. R-squared:    </th> <td>   0.372</td>\n",
       "</tr>\n",
       "<tr>\n",
       "  <th>Method:</th>             <td>Least Squares</td>  <th>  F-statistic:       </th> <td>   44.89</td>\n",
       "</tr>\n",
       "<tr>\n",
       "  <th>Date:</th>             <td>Sun, 28 Mar 2021</td> <th>  Prob (F-statistic):</th> <td>3.74e-09</td>\n",
       "</tr>\n",
       "<tr>\n",
       "  <th>Time:</th>                 <td>22:52:10</td>     <th>  Log-Likelihood:    </th> <td> -774.70</td>\n",
       "</tr>\n",
       "<tr>\n",
       "  <th>No. Observations:</th>      <td>    75</td>      <th>  AIC:               </th> <td>   1553.</td>\n",
       "</tr>\n",
       "<tr>\n",
       "  <th>Df Residuals:</th>          <td>    73</td>      <th>  BIC:               </th> <td>   1558.</td>\n",
       "</tr>\n",
       "<tr>\n",
       "  <th>Df Model:</th>              <td>     1</td>      <th>                     </th>     <td> </td>   \n",
       "</tr>\n",
       "<tr>\n",
       "  <th>Covariance Type:</th>      <td>nonrobust</td>    <th>                     </th>     <td> </td>   \n",
       "</tr>\n",
       "</table>\n",
       "<table class=\"simpletable\">\n",
       "<tr>\n",
       "     <td></td>        <th>coef</th>     <th>std err</th>      <th>t</th>      <th>P>|t|</th>  <th>[0.025</th>    <th>0.975]</th>  \n",
       "</tr>\n",
       "<tr>\n",
       "  <th>const</th>   <td> 2307.0079</td> <td> 1106.216</td> <td>    2.085</td> <td> 0.041</td> <td>  102.323</td> <td> 4511.693</td>\n",
       "</tr>\n",
       "<tr>\n",
       "  <th>Bitcoin</th> <td>  389.0915</td> <td>   58.076</td> <td>    6.700</td> <td> 0.000</td> <td>  273.346</td> <td>  504.837</td>\n",
       "</tr>\n",
       "</table>\n",
       "<table class=\"simpletable\">\n",
       "<tr>\n",
       "  <th>Omnibus:</th>       <td>54.714</td> <th>  Durbin-Watson:     </th> <td>   0.300</td>\n",
       "</tr>\n",
       "<tr>\n",
       "  <th>Prob(Omnibus):</th> <td> 0.000</td> <th>  Jarque-Bera (JB):  </th> <td> 450.565</td>\n",
       "</tr>\n",
       "<tr>\n",
       "  <th>Skew:</th>          <td> 1.889</td> <th>  Prob(JB):          </th> <td>1.45e-98</td>\n",
       "</tr>\n",
       "<tr>\n",
       "  <th>Kurtosis:</th>      <td>14.397</td> <th>  Cond. No.          </th> <td>    24.3</td>\n",
       "</tr>\n",
       "</table><br/><br/>Notes:<br/>[1] Standard Errors assume that the covariance matrix of the errors is correctly specified."
      ],
      "text/plain": [
       "<class 'statsmodels.iolib.summary.Summary'>\n",
       "\"\"\"\n",
       "                            OLS Regression Results                            \n",
       "==============================================================================\n",
       "Dep. Variable:              Adj Close   R-squared:                       0.381\n",
       "Model:                            OLS   Adj. R-squared:                  0.372\n",
       "Method:                 Least Squares   F-statistic:                     44.89\n",
       "Date:                Sun, 28 Mar 2021   Prob (F-statistic):           3.74e-09\n",
       "Time:                        22:52:10   Log-Likelihood:                -774.70\n",
       "No. Observations:                  75   AIC:                             1553.\n",
       "Df Residuals:                      73   BIC:                             1558.\n",
       "Df Model:                           1                                         \n",
       "Covariance Type:            nonrobust                                         \n",
       "==============================================================================\n",
       "                 coef    std err          t      P>|t|      [0.025      0.975]\n",
       "------------------------------------------------------------------------------\n",
       "const       2307.0079   1106.216      2.085      0.041     102.323    4511.693\n",
       "Bitcoin      389.0915     58.076      6.700      0.000     273.346     504.837\n",
       "==============================================================================\n",
       "Omnibus:                       54.714   Durbin-Watson:                   0.300\n",
       "Prob(Omnibus):                  0.000   Jarque-Bera (JB):              450.565\n",
       "Skew:                           1.889   Prob(JB):                     1.45e-98\n",
       "Kurtosis:                      14.397   Cond. No.                         24.3\n",
       "==============================================================================\n",
       "\n",
       "Notes:\n",
       "[1] Standard Errors assume that the covariance matrix of the errors is correctly specified.\n",
       "\"\"\""
      ]
     },
     "execution_count": 23,
     "metadata": {},
     "output_type": "execute_result"
    }
   ],
   "source": [
    "reg.summary()"
   ]
  },
  {
   "cell_type": "code",
   "execution_count": 29,
   "metadata": {},
   "outputs": [],
   "source": [
    "# Summery:\n",
    "#p-values for the slope is smaller than 0.01. \n",
    "#That means that the number of Google searches for 'Bitcoin' significantly predict the Bitcoin prices."
   ]
  }
 ],
 "metadata": {
  "kernelspec": {
   "display_name": "Python 3",
   "language": "python",
   "name": "python3"
  },
  "language_info": {
   "codemirror_mode": {
    "name": "ipython",
    "version": 3
   },
   "file_extension": ".py",
   "mimetype": "text/x-python",
   "name": "python",
   "nbconvert_exporter": "python",
   "pygments_lexer": "ipython3",
   "version": "3.7.1"
  }
 },
 "nbformat": 4,
 "nbformat_minor": 2
}
